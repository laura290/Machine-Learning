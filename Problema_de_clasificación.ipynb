{
 "cells": [
  {
   "cell_type": "markdown",
   "metadata": {},
   "source": [
    "Problema de clasificación,en el que se emplea el algoritmo knn, y se ve como de bien funciona el modelo calculando el accuracy y posteriormente creando una matriz de confusión para ver donde estuvieron los errores.\n",
    "Curva ROC,como evaluación."
   ]
  },
  {
   "cell_type": "code",
   "execution_count": 1,
   "metadata": {},
   "outputs": [
    {
     "data": {
      "text/html": [
       "<div>\n",
       "<style scoped>\n",
       "    .dataframe tbody tr th:only-of-type {\n",
       "        vertical-align: middle;\n",
       "    }\n",
       "\n",
       "    .dataframe tbody tr th {\n",
       "        vertical-align: top;\n",
       "    }\n",
       "\n",
       "    .dataframe thead th {\n",
       "        text-align: right;\n",
       "    }\n",
       "</style>\n",
       "<table border=\"1\" class=\"dataframe\">\n",
       "  <thead>\n",
       "    <tr style=\"text-align: right;\">\n",
       "      <th></th>\n",
       "      <th>COL2A1</th>\n",
       "      <th>RXRG</th>\n",
       "      <th>CCL19</th>\n",
       "      <th>SSX1</th>\n",
       "      <th>CST2</th>\n",
       "      <th>PRSS33</th>\n",
       "      <th>CDH2</th>\n",
       "      <th>SCUBE2</th>\n",
       "      <th>TMPRSS13</th>\n",
       "      <th>TRPM8</th>\n",
       "      <th>...</th>\n",
       "      <th>UBASH3A</th>\n",
       "      <th>GBP4</th>\n",
       "      <th>PRF1</th>\n",
       "      <th>PTK6</th>\n",
       "      <th>PCDHB2</th>\n",
       "      <th>GSDMA</th>\n",
       "      <th>DIO2</th>\n",
       "      <th>PLIN1</th>\n",
       "      <th>NCF1C</th>\n",
       "      <th>SLC7A11</th>\n",
       "    </tr>\n",
       "  </thead>\n",
       "  <tbody>\n",
       "    <tr>\n",
       "      <th>0</th>\n",
       "      <td>-1.431141</td>\n",
       "      <td>-7.845756</td>\n",
       "      <td>0.665118</td>\n",
       "      <td>-1.409304</td>\n",
       "      <td>-2.537396</td>\n",
       "      <td>-1.676281</td>\n",
       "      <td>1.529957</td>\n",
       "      <td>-0.895042</td>\n",
       "      <td>-0.298778</td>\n",
       "      <td>5.091742</td>\n",
       "      <td>...</td>\n",
       "      <td>-0.659997</td>\n",
       "      <td>-1.469602</td>\n",
       "      <td>-0.570793</td>\n",
       "      <td>1.047635</td>\n",
       "      <td>-2.068966</td>\n",
       "      <td>-0.202828</td>\n",
       "      <td>-0.506767</td>\n",
       "      <td>1.285256</td>\n",
       "      <td>-0.901222</td>\n",
       "      <td>2.483020</td>\n",
       "    </tr>\n",
       "    <tr>\n",
       "      <th>1</th>\n",
       "      <td>-0.424374</td>\n",
       "      <td>-8.352423</td>\n",
       "      <td>0.386055</td>\n",
       "      <td>-2.846138</td>\n",
       "      <td>-0.685105</td>\n",
       "      <td>0.339787</td>\n",
       "      <td>-3.488043</td>\n",
       "      <td>-0.584982</td>\n",
       "      <td>5.679815</td>\n",
       "      <td>-1.117879</td>\n",
       "      <td>...</td>\n",
       "      <td>0.190202</td>\n",
       "      <td>-0.282190</td>\n",
       "      <td>0.375094</td>\n",
       "      <td>0.261662</td>\n",
       "      <td>3.356282</td>\n",
       "      <td>2.028145</td>\n",
       "      <td>-2.399010</td>\n",
       "      <td>-1.152801</td>\n",
       "      <td>0.662490</td>\n",
       "      <td>-2.914991</td>\n",
       "    </tr>\n",
       "    <tr>\n",
       "      <th>2</th>\n",
       "      <td>11.014251</td>\n",
       "      <td>0.415549</td>\n",
       "      <td>-1.633781</td>\n",
       "      <td>0.315442</td>\n",
       "      <td>-0.662332</td>\n",
       "      <td>-0.498761</td>\n",
       "      <td>0.535811</td>\n",
       "      <td>-0.467456</td>\n",
       "      <td>-2.818738</td>\n",
       "      <td>1.731049</td>\n",
       "      <td>...</td>\n",
       "      <td>-0.816305</td>\n",
       "      <td>-0.316202</td>\n",
       "      <td>-1.153745</td>\n",
       "      <td>-2.284201</td>\n",
       "      <td>-1.761597</td>\n",
       "      <td>-0.746975</td>\n",
       "      <td>-2.988195</td>\n",
       "      <td>-1.976877</td>\n",
       "      <td>-1.400889</td>\n",
       "      <td>-2.266779</td>\n",
       "    </tr>\n",
       "    <tr>\n",
       "      <th>3</th>\n",
       "      <td>-1.180446</td>\n",
       "      <td>-8.187415</td>\n",
       "      <td>-1.958023</td>\n",
       "      <td>5.061146</td>\n",
       "      <td>-2.603744</td>\n",
       "      <td>-0.666706</td>\n",
       "      <td>0.456460</td>\n",
       "      <td>-4.609624</td>\n",
       "      <td>-1.713164</td>\n",
       "      <td>-3.880876</td>\n",
       "      <td>...</td>\n",
       "      <td>0.214344</td>\n",
       "      <td>-0.327110</td>\n",
       "      <td>0.476764</td>\n",
       "      <td>1.153275</td>\n",
       "      <td>-0.337649</td>\n",
       "      <td>-1.006765</td>\n",
       "      <td>-2.686648</td>\n",
       "      <td>-1.329148</td>\n",
       "      <td>0.055994</td>\n",
       "      <td>-2.652313</td>\n",
       "    </tr>\n",
       "    <tr>\n",
       "      <th>4</th>\n",
       "      <td>0.816312</td>\n",
       "      <td>-1.189303</td>\n",
       "      <td>4.837235</td>\n",
       "      <td>4.972176</td>\n",
       "      <td>-2.963715</td>\n",
       "      <td>-2.665721</td>\n",
       "      <td>-0.268042</td>\n",
       "      <td>-1.740607</td>\n",
       "      <td>0.011610</td>\n",
       "      <td>-4.107467</td>\n",
       "      <td>...</td>\n",
       "      <td>3.352734</td>\n",
       "      <td>2.145368</td>\n",
       "      <td>3.358865</td>\n",
       "      <td>-2.324389</td>\n",
       "      <td>-1.741669</td>\n",
       "      <td>0.734312</td>\n",
       "      <td>-1.649316</td>\n",
       "      <td>6.284688</td>\n",
       "      <td>1.450729</td>\n",
       "      <td>1.131275</td>\n",
       "    </tr>\n",
       "  </tbody>\n",
       "</table>\n",
       "<p>5 rows × 50 columns</p>\n",
       "</div>"
      ],
      "text/plain": [
       "      COL2A1      RXRG     CCL19      SSX1      CST2    PRSS33      CDH2  \\\n",
       "0  -1.431141 -7.845756  0.665118 -1.409304 -2.537396 -1.676281  1.529957   \n",
       "1  -0.424374 -8.352423  0.386055 -2.846138 -0.685105  0.339787 -3.488043   \n",
       "2  11.014251  0.415549 -1.633781  0.315442 -0.662332 -0.498761  0.535811   \n",
       "3  -1.180446 -8.187415 -1.958023  5.061146 -2.603744 -0.666706  0.456460   \n",
       "4   0.816312 -1.189303  4.837235  4.972176 -2.963715 -2.665721 -0.268042   \n",
       "\n",
       "     SCUBE2  TMPRSS13     TRPM8  ...   UBASH3A      GBP4      PRF1      PTK6  \\\n",
       "0 -0.895042 -0.298778  5.091742  ... -0.659997 -1.469602 -0.570793  1.047635   \n",
       "1 -0.584982  5.679815 -1.117879  ...  0.190202 -0.282190  0.375094  0.261662   \n",
       "2 -0.467456 -2.818738  1.731049  ... -0.816305 -0.316202 -1.153745 -2.284201   \n",
       "3 -4.609624 -1.713164 -3.880876  ...  0.214344 -0.327110  0.476764  1.153275   \n",
       "4 -1.740607  0.011610 -4.107467  ...  3.352734  2.145368  3.358865 -2.324389   \n",
       "\n",
       "     PCDHB2     GSDMA      DIO2     PLIN1     NCF1C   SLC7A11  \n",
       "0 -2.068966 -0.202828 -0.506767  1.285256 -0.901222  2.483020  \n",
       "1  3.356282  2.028145 -2.399010 -1.152801  0.662490 -2.914991  \n",
       "2 -1.761597 -0.746975 -2.988195 -1.976877 -1.400889 -2.266779  \n",
       "3 -0.337649 -1.006765 -2.686648 -1.329148  0.055994 -2.652313  \n",
       "4 -1.741669  0.734312 -1.649316  6.284688  1.450729  1.131275  \n",
       "\n",
       "[5 rows x 50 columns]"
      ]
     },
     "execution_count": 1,
     "metadata": {},
     "output_type": "execute_result"
    }
   ],
   "source": [
    "import pandas as pd\n",
    "\n",
    "#Cargamos los datos ómicos de la matriz de expresión desde un fichero compartido en Google Drive\n",
    "gene_exp_inmune = pd.read_csv('https://drive.google.com/uc?id=1PYzEIdmnfjOnBpPDIFBE9hL1Lkj_OBCk',index_col=0)\n",
    "#Cargamos la variable clínica correspondiente a las etiquetas \"inmune\" vs. \"MITF-low\"\n",
    "clinical_info_inmune = pd.read_csv('https://drive.google.com/uc?id=1hHQfcvrFa5Jds-9tW_X4sHjKpYKdii9s',index_col=0)\n",
    "\n",
    "X, y = gene_exp_inmune, clinical_info_inmune\n",
    "\n",
    "#Imprimimos las 5 primeras muestras del conjunto de datos\n",
    "X.head()"
   ]
  },
  {
   "cell_type": "code",
   "execution_count": 2,
   "metadata": {},
   "outputs": [
    {
     "data": {
      "text/html": [
       "<div>\n",
       "<style scoped>\n",
       "    .dataframe tbody tr th:only-of-type {\n",
       "        vertical-align: middle;\n",
       "    }\n",
       "\n",
       "    .dataframe tbody tr th {\n",
       "        vertical-align: top;\n",
       "    }\n",
       "\n",
       "    .dataframe thead th {\n",
       "        text-align: right;\n",
       "    }\n",
       "</style>\n",
       "<table border=\"1\" class=\"dataframe\">\n",
       "  <thead>\n",
       "    <tr style=\"text-align: right;\">\n",
       "      <th></th>\n",
       "      <th>COL2A1</th>\n",
       "      <th>RXRG</th>\n",
       "      <th>CCL19</th>\n",
       "      <th>SSX1</th>\n",
       "      <th>CST2</th>\n",
       "      <th>PRSS33</th>\n",
       "      <th>CDH2</th>\n",
       "      <th>SCUBE2</th>\n",
       "      <th>TMPRSS13</th>\n",
       "      <th>TRPM8</th>\n",
       "    </tr>\n",
       "  </thead>\n",
       "  <tbody>\n",
       "    <tr>\n",
       "      <th>count</th>\n",
       "      <td>336.000000</td>\n",
       "      <td>336.000000</td>\n",
       "      <td>336.000000</td>\n",
       "      <td>336.000000</td>\n",
       "      <td>336.000000</td>\n",
       "      <td>336.000000</td>\n",
       "      <td>336.000000</td>\n",
       "      <td>336.000000</td>\n",
       "      <td>336.000000</td>\n",
       "      <td>336.000000</td>\n",
       "    </tr>\n",
       "    <tr>\n",
       "      <th>mean</th>\n",
       "      <td>0.851833</td>\n",
       "      <td>-0.719944</td>\n",
       "      <td>1.136670</td>\n",
       "      <td>0.455719</td>\n",
       "      <td>0.562422</td>\n",
       "      <td>0.243546</td>\n",
       "      <td>0.173262</td>\n",
       "      <td>-0.144176</td>\n",
       "      <td>0.026026</td>\n",
       "      <td>0.435880</td>\n",
       "    </tr>\n",
       "    <tr>\n",
       "      <th>std</th>\n",
       "      <td>3.225967</td>\n",
       "      <td>3.171022</td>\n",
       "      <td>3.112834</td>\n",
       "      <td>3.059409</td>\n",
       "      <td>3.024017</td>\n",
       "      <td>2.848285</td>\n",
       "      <td>2.612762</td>\n",
       "      <td>2.617039</td>\n",
       "      <td>2.294357</td>\n",
       "      <td>2.740942</td>\n",
       "    </tr>\n",
       "    <tr>\n",
       "      <th>min</th>\n",
       "      <td>-2.453544</td>\n",
       "      <td>-9.460513</td>\n",
       "      <td>-6.670597</td>\n",
       "      <td>-3.316233</td>\n",
       "      <td>-2.963715</td>\n",
       "      <td>-3.826060</td>\n",
       "      <td>-6.937990</td>\n",
       "      <td>-6.293538</td>\n",
       "      <td>-4.181460</td>\n",
       "      <td>-4.974098</td>\n",
       "    </tr>\n",
       "    <tr>\n",
       "      <th>25%</th>\n",
       "      <td>-0.996501</td>\n",
       "      <td>-1.466714</td>\n",
       "      <td>-0.157164</td>\n",
       "      <td>-2.445496</td>\n",
       "      <td>-1.696510</td>\n",
       "      <td>-2.353053</td>\n",
       "      <td>-1.664596</td>\n",
       "      <td>-2.238180</td>\n",
       "      <td>-1.760676</td>\n",
       "      <td>-1.518327</td>\n",
       "    </tr>\n",
       "    <tr>\n",
       "      <th>50%</th>\n",
       "      <td>-0.366554</td>\n",
       "      <td>0.408615</td>\n",
       "      <td>1.615818</td>\n",
       "      <td>0.019864</td>\n",
       "      <td>-0.429073</td>\n",
       "      <td>0.293924</td>\n",
       "      <td>0.576447</td>\n",
       "      <td>0.039506</td>\n",
       "      <td>-0.320967</td>\n",
       "      <td>0.550273</td>\n",
       "    </tr>\n",
       "    <tr>\n",
       "      <th>75%</th>\n",
       "      <td>1.433984</td>\n",
       "      <td>1.352582</td>\n",
       "      <td>3.148308</td>\n",
       "      <td>2.615407</td>\n",
       "      <td>2.031879</td>\n",
       "      <td>2.039151</td>\n",
       "      <td>2.096088</td>\n",
       "      <td>1.905312</td>\n",
       "      <td>1.204806</td>\n",
       "      <td>2.181670</td>\n",
       "    </tr>\n",
       "    <tr>\n",
       "      <th>max</th>\n",
       "      <td>13.077674</td>\n",
       "      <td>3.452661</td>\n",
       "      <td>7.279227</td>\n",
       "      <td>8.045333</td>\n",
       "      <td>12.186303</td>\n",
       "      <td>9.439966</td>\n",
       "      <td>5.199115</td>\n",
       "      <td>5.527684</td>\n",
       "      <td>7.381040</td>\n",
       "      <td>7.094981</td>\n",
       "    </tr>\n",
       "  </tbody>\n",
       "</table>\n",
       "</div>"
      ],
      "text/plain": [
       "           COL2A1        RXRG       CCL19        SSX1        CST2      PRSS33  \\\n",
       "count  336.000000  336.000000  336.000000  336.000000  336.000000  336.000000   \n",
       "mean     0.851833   -0.719944    1.136670    0.455719    0.562422    0.243546   \n",
       "std      3.225967    3.171022    3.112834    3.059409    3.024017    2.848285   \n",
       "min     -2.453544   -9.460513   -6.670597   -3.316233   -2.963715   -3.826060   \n",
       "25%     -0.996501   -1.466714   -0.157164   -2.445496   -1.696510   -2.353053   \n",
       "50%     -0.366554    0.408615    1.615818    0.019864   -0.429073    0.293924   \n",
       "75%      1.433984    1.352582    3.148308    2.615407    2.031879    2.039151   \n",
       "max     13.077674    3.452661    7.279227    8.045333   12.186303    9.439966   \n",
       "\n",
       "             CDH2      SCUBE2    TMPRSS13       TRPM8  \n",
       "count  336.000000  336.000000  336.000000  336.000000  \n",
       "mean     0.173262   -0.144176    0.026026    0.435880  \n",
       "std      2.612762    2.617039    2.294357    2.740942  \n",
       "min     -6.937990   -6.293538   -4.181460   -4.974098  \n",
       "25%     -1.664596   -2.238180   -1.760676   -1.518327  \n",
       "50%      0.576447    0.039506   -0.320967    0.550273  \n",
       "75%      2.096088    1.905312    1.204806    2.181670  \n",
       "max      5.199115    5.527684    7.381040    7.094981  "
      ]
     },
     "execution_count": 2,
     "metadata": {},
     "output_type": "execute_result"
    }
   ],
   "source": [
    "#La orden \"describe\" muestra los principales estadísticos (solo 10 primeras variables). \n",
    "X[X.columns[0:10]].describe()"
   ]
  },
  {
   "cell_type": "code",
   "execution_count": 3,
   "metadata": {},
   "outputs": [
    {
     "name": "stdout",
     "output_type": "stream",
     "text": [
      "Numero de instancias en entrenamiento: 252; y test: 84\n"
     ]
    }
   ],
   "source": [
    "from sklearn.model_selection import train_test_split\n",
    "X_train, X_test, y_train, y_test = train_test_split(X, y, random_state=42)\n",
    "\n",
    "print(\"Numero de instancias en entrenamiento: {}; y test: {}\".format(len(X_train),len(X_test)))"
   ]
  },
  {
   "cell_type": "code",
   "execution_count": 4,
   "metadata": {},
   "outputs": [
    {
     "data": {
      "text/plain": [
       "KNeighborsClassifier()"
      ]
     },
     "execution_count": 4,
     "metadata": {},
     "output_type": "execute_result"
    }
   ],
   "source": [
    "from sklearn.neighbors import KNeighborsClassifier # cargamos la función desde la biblioteca\n",
    "import warnings\n",
    "warnings.filterwarnings(\"ignore\")\n",
    "\n",
    "knn = KNeighborsClassifier() # instanciamos el modelo (parámetros por defecto)\n",
    "knn.fit(X_train, y_train) # lo más importante: entrenamos el modelo \n"
   ]
  },
  {
   "cell_type": "code",
   "execution_count": 5,
   "metadata": {},
   "outputs": [
    {
     "name": "stdout",
     "output_type": "stream",
     "text": [
      "['MITF-low' 'MITF-low' 'MITF-low' 'MITF-low' 'MITF-low' 'MITF-low'\n",
      " 'MITF-low' 'MITF-low' 'MITF-low' 'MITF-low']\n"
     ]
    }
   ],
   "source": [
    "y_pred = knn.predict(X_test) # predicción de cada etiqueta \n",
    "\n",
    "# imprimimos la etiqueta calculada para los 10 primeros datos de X_test\n",
    "print(y_pred[:10]) "
   ]
  },
  {
   "cell_type": "code",
   "execution_count": 6,
   "metadata": {},
   "outputs": [
    {
     "name": "stdout",
     "output_type": "stream",
     "text": [
      "0.6428571428571429\n"
     ]
    }
   ],
   "source": [
    "from sklearn.metrics import accuracy_score\n",
    "\n",
    "acc_score = accuracy_score(y_test, y_pred)\n",
    "print(acc_score)"
   ]
  },
  {
   "cell_type": "code",
   "execution_count": 7,
   "metadata": {},
   "outputs": [
    {
     "name": "stdout",
     "output_type": "stream",
     "text": [
      "[[43  1]\n",
      " [29 11]]\n"
     ]
    }
   ],
   "source": [
    "from sklearn.metrics import confusion_matrix\n",
    "m = confusion_matrix(y_test, y_pred)\n",
    "print(m)"
   ]
  },
  {
   "cell_type": "code",
   "execution_count": 8,
   "metadata": {},
   "outputs": [
    {
     "name": "stdout",
     "output_type": "stream",
     "text": [
      "[0.61764706 0.59701493 0.59701493 0.62686567 0.68656716]\n",
      "0.6250219490781387\n"
     ]
    }
   ],
   "source": [
    "import numpy as np\n",
    "from sklearn.model_selection import cross_val_score\n",
    "\n",
    "scores = cross_val_score(knn, X, y) #por defecto 5 particiones\n",
    "\n",
    "print(scores) #los valores individuales de cada partición\n",
    "print(np.mean(scores)) #la media de acierto global\n"
   ]
  },
  {
   "cell_type": "code",
   "execution_count": 9,
   "metadata": {},
   "outputs": [
    {
     "data": {
      "text/plain": [
       "<sklearn.metrics._plot.confusion_matrix.ConfusionMatrixDisplay at 0x7fdae37283a0>"
      ]
     },
     "execution_count": 9,
     "metadata": {},
     "output_type": "execute_result"
    },
    {
     "data": {
      "image/png": "[encoded data removed]",
      "text/plain": [
       "<Figure size 432x288 with 2 Axes>"
      ]
     },
     "metadata": {
      "needs_background": "light"
     },
     "output_type": "display_data"
    }
   ],
   "source": [
    "from sklearn import metrics\n",
    "import matplotlib.pyplot as plt\n",
    "\n",
    "#el parámetro cmap utilizar un mapa de color en azules para ser cómodo a la vista\n",
    "metrics.plot_confusion_matrix(knn, X_test, y_test,cmap=plt.cm.Blues)"
   ]
  },
  {
   "cell_type": "code",
   "execution_count": 10,
   "metadata": {},
   "outputs": [
    {
     "name": "stdout",
     "output_type": "stream",
     "text": [
      "El valor de AUC para kNN es 0.7664772727272727\n"
     ]
    },
    {
     "data": {
      "text/plain": [
       "<sklearn.metrics._plot.roc_curve.RocCurveDisplay at 0x7fdae769ff10>"
      ]
     },
     "execution_count": 10,
     "metadata": {},
     "output_type": "execute_result"
    },
    {
     "data": {
      "image/png": "[encoded data removed]",
      "text/plain": [
       "<Figure size 432x288 with 1 Axes>"
      ]
     },
     "metadata": {
      "needs_background": "light"
     },
     "output_type": "display_data"
    }
   ],
   "source": [
    "from sklearn import metrics\n",
    "\n",
    "y_prob = knn.predict_proba(X_test)\n",
    "\n",
    "auc_knn = metrics.roc_auc_score(y_test, y_prob[:,1]) \n",
    "print(\"El valor de AUC para kNN es\", auc_knn)\n",
    "\n",
    "metrics.plot_roc_curve(knn, X_test, y_test) #pintamos la curva"
   ]
  },
  {
   "cell_type": "code",
   "execution_count": null,
   "metadata": {},
   "outputs": [],
   "source": []
  },
  {
   "cell_type": "code",
   "execution_count": null,
   "metadata": {},
   "outputs": [],
   "source": []
  },
  {
   "cell_type": "code",
   "execution_count": null,
   "metadata": {},
   "outputs": [],
   "source": []
  }
 ],
 "metadata": {
  "kernelspec": {
   "display_name": "Python 3",
   "language": "python",
   "name": "python3"
  },
  "language_info": {
   "codemirror_mode": {
    "name": "ipython",
    "version": 3
   },
   "file_extension": ".py",
   "mimetype": "text/x-python",
   "name": "python",
   "nbconvert_exporter": "python",
   "pygments_lexer": "ipython3",
   "version": "3.8.5"
  }
 },
 "nbformat": 4,
 "nbformat_minor": 4
}
